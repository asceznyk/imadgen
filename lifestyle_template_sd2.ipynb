{
  "metadata": {
    "kernelspec": {
      "language": "python",
      "display_name": "Python 3",
      "name": "python3"
    },
    "language_info": {
      "name": "python",
      "version": "3.10.10",
      "mimetype": "text/x-python",
      "codemirror_mode": {
        "name": "ipython",
        "version": 3
      },
      "pygments_lexer": "ipython3",
      "nbconvert_exporter": "python",
      "file_extension": ".py"
    },
    "colab": {
      "provenance": [],
      "include_colab_link": true
    }
  },
  "nbformat_minor": 0,
  "nbformat": 4,
  "cells": [
    {
      "cell_type": "markdown",
      "metadata": {
        "id": "view-in-github",
        "colab_type": "text"
      },
      "source": [
        "<a href=\"https://colab.research.google.com/github/asceznyk/imadgen/blob/dev1/lifestyle_template_sd2.ipynb\" target=\"_parent\"><img src=\"https://colab.research.google.com/assets/colab-badge.svg\" alt=\"Open In Colab\"/></a>"
      ]
    },
    {
      "cell_type": "code",
      "execution_count": null,
      "metadata": {
        "colab": {
          "base_uri": "https://localhost:8080/"
        },
        "cellView": "form",
        "id": "ZxnryvZGy_79",
        "outputId": "69da9ce1-bd19-490d-f826-ebbd283aa097"
      },
      "outputs": [
        {
          "output_type": "stream",
          "name": "stdout",
          "text": [
            "Drive already mounted at /content/drive; to attempt to forcibly remount, call drive.mount(\"/content/drive\", force_remount=True).\n"
          ]
        }
      ],
      "source": [
        "#@title Mount Drive\n",
        "\n",
        "from google.colab import drive\n",
        "drive.mount('/content/drive')"
      ]
    },
    {
      "cell_type": "code",
      "source": [
        "#@title CD into repo\n",
        "%cd /content/drive/MyDrive/imadgen"
      ],
      "metadata": {
        "id": "K-3yzE7GoC5l",
        "execution": {
          "iopub.status.busy": "2023-07-11T05:21:01.015613Z",
          "iopub.execute_input": "2023-07-11T05:21:01.018210Z",
          "iopub.status.idle": "2023-07-11T05:21:29.753595Z",
          "shell.execute_reply.started": "2023-07-11T05:21:01.018170Z",
          "shell.execute_reply": "2023-07-11T05:21:29.752343Z"
        },
        "trusted": true,
        "colab": {
          "base_uri": "https://localhost:8080/"
        },
        "cellView": "form",
        "outputId": "e9294c8a-7b8c-404d-80ee-1220e93f7c18"
      },
      "execution_count": 2,
      "outputs": [
        {
          "output_type": "stream",
          "name": "stdout",
          "text": [
            "/content/drive/MyDrive/imadgen\n"
          ]
        }
      ]
    },
    {
      "cell_type": "code",
      "source": [
        "#@title Install required dependencies\n",
        "\n",
        "!pip install colormap\n",
        "!pip install easydev\n",
        "!pip install diffusers transformers xformers git+https://github.com/huggingface/accelerate.git\n",
        "!pip install opencv-contrib-python\n",
        "!pip install controlnet_aux"
      ],
      "metadata": {
        "id": "BomFYeCUdZkG",
        "execution": {
          "iopub.status.busy": "2023-07-11T05:16:55.340626Z",
          "iopub.execute_input": "2023-07-11T05:16:55.341338Z",
          "iopub.status.idle": "2023-07-11T05:17:28.117902Z",
          "shell.execute_reply.started": "2023-07-11T05:16:55.341216Z",
          "shell.execute_reply": "2023-07-11T05:17:28.116612Z"
        },
        "trusted": true,
        "cellView": "form"
      },
      "execution_count": null,
      "outputs": []
    },
    {
      "cell_type": "code",
      "source": [
        "#@title Import Dependencies\n",
        "\n",
        "from typing import List, Tuple, Dict, Union, Callable, TypedDict\n",
        "\n",
        "from colormap import rgb2hex, hex2rgb\n",
        "\n",
        "import os\n",
        "import cv2\n",
        "import random\n",
        "\n",
        "import numpy as np\n",
        "import pandas as pd\n",
        "import matplotlib.pyplot as plt\n",
        "\n",
        "from PIL import Image\n",
        "\n",
        "import torch\n",
        "\n",
        "from diffusers import StableDiffusionPipeline, DPMSolverMultistepScheduler\n",
        "\n",
        "\n",
        "class Colors(TypedDict):\n",
        "    code:str\n",
        "    word:str\n",
        "\n",
        "\n",
        "class PromptDesigns(TypedDict):\n",
        "    category:str\n",
        "    design:List[str]\n",
        "\n",
        "\n",
        "class CategoryMaps(TypedDict):\n",
        "    category:str\n",
        "    image:List[Image.Image]"
      ],
      "metadata": {
        "id": "DhNdz4rooMLq",
        "execution": {
          "iopub.status.busy": "2023-07-11T05:21:29.756828Z",
          "iopub.execute_input": "2023-07-11T05:21:29.757599Z",
          "iopub.status.idle": "2023-07-11T05:21:46.529870Z",
          "shell.execute_reply.started": "2023-07-11T05:21:29.757536Z",
          "shell.execute_reply": "2023-07-11T05:21:46.528785Z"
        },
        "trusted": true
      },
      "execution_count": null,
      "outputs": []
    },
    {
      "cell_type": "code",
      "source": [
        "sd2_pipe = StableDiffusionPipeline.from_pretrained(\n",
        "    \"stabilityai/stable-diffusion-2-1\", torch_dtype=torch.float16\n",
        ")\n",
        "sd2_pipe.scheduler = DPMSolverMultistepScheduler.from_config(sd2_pipe.scheduler.config)"
      ],
      "metadata": {
        "id": "klXcwEP8ywvL",
        "execution": {
          "iopub.status.busy": "2023-07-11T05:21:46.531341Z",
          "iopub.execute_input": "2023-07-11T05:21:46.532597Z",
          "iopub.status.idle": "2023-07-11T05:22:54.290711Z",
          "shell.execute_reply.started": "2023-07-11T05:21:46.532557Z",
          "shell.execute_reply": "2023-07-11T05:22:54.289459Z"
        },
        "trusted": true
      },
      "execution_count": null,
      "outputs": []
    },
    {
      "cell_type": "code",
      "source": [
        "colors: Colors = {\n",
        "    \"#ffdaa6;#c3b397\": \"gradient-brown\",\n",
        "    \"#e30613\": \"red\",\n",
        "    \"#3f62ae\": \"royal blue\",\n",
        "    \"#803300\": \"cinnamon\",\n",
        "    \"#b3ffff\": \"sky blue\",\n",
        "    \"#e619ff\": \"purple\",\n",
        "    \"#ff8000\": \"orange\"\n",
        "}\n",
        "\n",
        "device = \"cuda\""
      ],
      "metadata": {
        "id": "ACe-X1K7xntN",
        "execution": {
          "iopub.status.busy": "2023-07-11T06:17:07.269220Z",
          "iopub.execute_input": "2023-07-11T06:17:07.270286Z",
          "iopub.status.idle": "2023-07-11T06:17:07.281336Z",
          "shell.execute_reply.started": "2023-07-11T06:17:07.270210Z",
          "shell.execute_reply": "2023-07-11T06:17:07.280124Z"
        },
        "trusted": true
      },
      "execution_count": null,
      "outputs": []
    },
    {
      "cell_type": "code",
      "source": [
        "def make_prompt_designs(excel_path:str) -> PromptDesigns:\n",
        "    df = pd.read_excel(excel_path)\n",
        "    cats = df['category'].unique()\n",
        "    df = df.set_index('category')\n",
        "    prompt_designs: PromptDesigns = {}\n",
        "    for cat in cats: prompt_designs[cat] = df.loc[cat]['prompt'].tolist()\n",
        "    return prompt_designs\n",
        "\n",
        "\n",
        "def make_color_prompts(prompt_list:List[str], category:str, palette:List[str]) -> List[str]:\n",
        "    cat_prompts = []\n",
        "\n",
        "    for sample_prompt in prompt_list:\n",
        "        prompt_cat = []\n",
        "        colors_list = [colors[code] for code in palette]\n",
        "        prompt_split = sample_prompt.split('#')\n",
        "\n",
        "        n = len([c for c in sample_prompt if c == '#'])\n",
        "        m = len(colors_list)\n",
        "        if n > m: colors_list = [colors_list[random.randint(0, m-1)] for _ in range(n)]\n",
        "\n",
        "        print(n, len(colors_list))\n",
        "\n",
        "        for i in range(n): prompt_cat.append(''.join([prompt_split[i], colors_list[i]]))\n",
        "        prompt_cat.append(prompt_split[-1])\n",
        "        cat_prompts.append(''.join(prompt_cat).replace('$', category))\n",
        "\n",
        "    return cat_prompts\n",
        "\n",
        "\n",
        "def image_grid(imgs:List[np.array], rows:int, cols:int) -> Image.Image:\n",
        "    assert len(imgs) == rows * cols\n",
        "\n",
        "    w, h = imgs[0].size\n",
        "    grid = Image.new(\"RGB\", size=(cols * w, rows * h))\n",
        "    grid_w, grid_h = grid.size\n",
        "\n",
        "    for i, img in enumerate(imgs):\n",
        "        grid.paste(img, box=(i % cols * w, i // cols * h))\n",
        "    return grid\n",
        "\n",
        "\n",
        "def sd2_gen_images(\n",
        "    palette:List[str],\n",
        "    prompt_designs:PromptDesigns,\n",
        "    detail_prompt:str='ambient lighting, extremely detailed, photorealistic',\n",
        "    negative_prompt:str='',\n",
        "    gen_kwargs:Dict={\n",
        "        \"guidance_scale\":10,\n",
        "        \"num_inference_steps\":20,\n",
        "        \"num_images_per_prompt\":4\n",
        "    },\n",
        ") -> CategoryMaps:\n",
        "    gen_imgs: CategoryMaps = {}\n",
        "    num_images: int = gen_kwargs['num_images_per_prompt']\n",
        "    assert num_images % 4 == 0, \"num_images must be divisble by 4\"\n",
        "\n",
        "    for cat, prompt_list in prompt_designs.items():\n",
        "        cat_prompts = make_color_prompts(prompt_list, cat, palette)\n",
        "        for cat_prompt in cat_prompts:\n",
        "            input_prompt = f\"{cat_prompt}, {detail_prompt}\"\n",
        "            print(f\"input prompt: {input_prompt}\")\n",
        "            output = sd2_pipe(\n",
        "                input_prompt,\n",
        "                negative_prompt=\"monochrome, lowres, bad anatomy, worst quality, low quality, wooden, gradient, greek sculpture, floral design, face, text, table\",\n",
        "                **gen_kwargs\n",
        "            )\n",
        "            if cat not in gen_imgs: gen_imgs[cat] = []\n",
        "            gen_imgs[cat].append(image_grid(output.images, num_images // 4, 4))\n",
        "\n",
        "    return gen_imgs"
      ],
      "metadata": {
        "id": "n63PKvYdbFb1",
        "execution": {
          "iopub.status.busy": "2023-07-11T05:52:57.578738Z",
          "iopub.execute_input": "2023-07-11T05:52:57.579167Z",
          "iopub.status.idle": "2023-07-11T05:52:57.599823Z",
          "shell.execute_reply.started": "2023-07-11T05:52:57.579117Z",
          "shell.execute_reply": "2023-07-11T05:52:57.598722Z"
        },
        "trusted": true
      },
      "execution_count": null,
      "outputs": []
    },
    {
      "cell_type": "code",
      "source": [
        "client_palette1 = ['#ffdaa6;#c3b397', \"#e30613\", \"#3f62ae\"]\n",
        "client_palette2 = ['#803300', '#b3ffff', '#ff8000']"
      ],
      "metadata": {
        "id": "ApiPkLG4uRzQ",
        "execution": {
          "iopub.status.busy": "2023-07-11T05:53:33.629618Z",
          "iopub.execute_input": "2023-07-11T05:53:33.630039Z",
          "iopub.status.idle": "2023-07-11T05:53:33.635550Z",
          "shell.execute_reply.started": "2023-07-11T05:53:33.629999Z",
          "shell.execute_reply": "2023-07-11T05:53:33.634179Z"
        },
        "trusted": true
      },
      "execution_count": null,
      "outputs": []
    },
    {
      "cell_type": "code",
      "source": [
        "prompt_designs = make_prompt_designs('prompts_ai_gen.xlsx')"
      ],
      "metadata": {
        "id": "4kVaJR3h9tPr"
      },
      "execution_count": null,
      "outputs": []
    },
    {
      "cell_type": "code",
      "source": [
        "sd2_pipe.to(device)\n",
        "imgs_cat_palette_sd2 = []\n",
        "for palette in [client_palette1, client_palette2]:\n",
        "    gen_imgs_sd2 = sd2_gen_images(palette, gen_kwargs={\n",
        "        \"guidance_scale\":10,\n",
        "        \"num_inference_steps\":20,\n",
        "        \"num_images_per_prompt\":4\n",
        "    })\n",
        "    imgs_cat_palette_sd2.append(gen_imgs_sd2)"
      ],
      "metadata": {
        "id": "dY6I1Tpy0eqy",
        "execution": {
          "iopub.status.busy": "2023-07-11T06:17:15.432748Z",
          "iopub.execute_input": "2023-07-11T06:17:15.433168Z",
          "iopub.status.idle": "2023-07-11T06:20:34.356355Z",
          "shell.execute_reply.started": "2023-07-11T06:17:15.433131Z",
          "shell.execute_reply": "2023-07-11T06:20:34.355238Z"
        },
        "trusted": true
      },
      "execution_count": null,
      "outputs": []
    },
    {
      "cell_type": "code",
      "source": [
        "save_dir = 'ai_lifestyle_imgs2'\n",
        "os.makedirs(save_dir, exist_ok=True)\n",
        "client = ['punjabkings', 'monopoly']\n",
        "for i in range(len(imgs_cat_palette_sd2)):\n",
        "    for cat, img in imgs_cat_palette_sd2[i].items():\n",
        "        os.makedirs(f'{save_dir}/{cat}', exist_ok=True)\n",
        "        img.save(f'{save_dir}/{cat}/ai_gen_{client[i]}_bg.png')"
      ],
      "metadata": {
        "id": "u9PmE2huIVne",
        "execution": {
          "iopub.status.busy": "2023-07-11T06:01:05.924246Z",
          "iopub.execute_input": "2023-07-11T06:01:05.924670Z",
          "iopub.status.idle": "2023-07-11T06:01:11.347054Z",
          "shell.execute_reply.started": "2023-07-11T06:01:05.924634Z",
          "shell.execute_reply": "2023-07-11T06:01:11.345996Z"
        },
        "trusted": true
      },
      "execution_count": null,
      "outputs": []
    },
    {
      "cell_type": "code",
      "source": [
        "!zip -r ai_lifestyle.zip ai_lifestyle_imgs2/"
      ],
      "metadata": {
        "execution": {
          "iopub.status.busy": "2023-07-11T06:01:44.598156Z",
          "iopub.execute_input": "2023-07-11T06:01:44.599224Z",
          "iopub.status.idle": "2023-07-11T06:01:46.426327Z",
          "shell.execute_reply.started": "2023-07-11T06:01:44.599188Z",
          "shell.execute_reply": "2023-07-11T06:01:46.424950Z"
        },
        "trusted": true,
        "id": "hJgwujWuvoA5"
      },
      "execution_count": null,
      "outputs": []
    }
  ]
}